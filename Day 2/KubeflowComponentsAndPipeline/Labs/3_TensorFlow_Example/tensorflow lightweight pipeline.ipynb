{
 "cells": [
  {
   "cell_type": "markdown",
   "metadata": {},
   "source": [
    "# 1. Install and import kfp and pip"
   ]
  },
  {
   "cell_type": "code",
   "execution_count": 15,
   "metadata": {},
   "outputs": [
    {
     "name": "stdout",
     "output_type": "stream",
     "text": [
      "Requirement already satisfied: pip in /home/jovyan/.local/lib/python3.6/site-packages (21.0.1)\r\n"
     ]
    }
   ],
   "source": [
    "!python -m pip install --user --upgrade pip"
   ]
  },
  {
   "cell_type": "code",
   "execution_count": 16,
   "metadata": {},
   "outputs": [
    {
     "name": "stdout",
     "output_type": "stream",
     "text": [
      "WARNING: pip is being invoked by an old script wrapper. This will fail in a future version of pip.\n",
      "Please see https://github.com/pypa/pip/issues/5599 for advice on fixing the underlying issue.\n",
      "To avoid this problem you can invoke Python with '-m pip' instead of running pip directly.\n",
      "Requirement already satisfied: kfp in /home/jovyan/.local/lib/python3.6/site-packages (1.4.0)\n",
      "Requirement already satisfied: tabulate in /home/jovyan/.local/lib/python3.6/site-packages (from kfp) (0.8.7)\n",
      "Requirement already satisfied: kfp-server-api<2.0.0,>=1.1.2 in /home/jovyan/.local/lib/python3.6/site-packages (from kfp) (1.3.0)\n",
      "Requirement already satisfied: jsonschema>=3.0.1 in /usr/local/lib/python3.6/dist-packages (from kfp) (3.2.0)\n",
      "Requirement already satisfied: kubernetes<12.0.0,>=8.0.0 in /usr/local/lib/python3.6/dist-packages (from kfp) (10.0.1)\n",
      "Requirement already satisfied: strip-hints in /home/jovyan/.local/lib/python3.6/site-packages (from kfp) (0.1.9)\n",
      "Requirement already satisfied: requests-toolbelt>=0.8.0 in /home/jovyan/.local/lib/python3.6/site-packages (from kfp) (0.9.1)\n",
      "Requirement already satisfied: Deprecated in /home/jovyan/.local/lib/python3.6/site-packages (from kfp) (1.2.11)\n",
      "Requirement already satisfied: google-cloud-storage>=1.13.0 in /usr/local/lib/python3.6/dist-packages (from kfp) (1.25.0)\n",
      "Requirement already satisfied: click in /home/jovyan/.local/lib/python3.6/site-packages (from kfp) (7.1.2)\n",
      "Requirement already satisfied: PyYAML>=5.3 in /usr/local/lib/python3.6/dist-packages (from kfp) (5.3)\n",
      "Requirement already satisfied: cloudpickle in /usr/local/lib/python3.6/dist-packages (from kfp) (1.2.2)\n",
      "Requirement already satisfied: google-auth>=1.6.1 in /usr/local/lib/python3.6/dist-packages (from kfp) (1.10.0)\n",
      "Requirement already satisfied: docstring-parser>=0.7.3 in /home/jovyan/.local/lib/python3.6/site-packages (from kfp) (0.7.3)\n",
      "Requirement already satisfied: fire>=0.3.1 in /home/jovyan/.local/lib/python3.6/site-packages (from kfp) (0.4.0)\n",
      "Requirement already satisfied: kfp-pipeline-spec<0.2.0,>=0.1.0 in /home/jovyan/.local/lib/python3.6/site-packages (from kfp) (0.1.5)\n",
      "Requirement already satisfied: six in /usr/local/lib/python3.6/dist-packages (from fire>=0.3.1->kfp) (1.13.0)\n",
      "Requirement already satisfied: termcolor in /usr/local/lib/python3.6/dist-packages (from fire>=0.3.1->kfp) (1.1.0)\n",
      "Requirement already satisfied: pyasn1-modules>=0.2.1 in /usr/local/lib/python3.6/dist-packages (from google-auth>=1.6.1->kfp) (0.2.8)\n",
      "Requirement already satisfied: cachetools<5.0,>=2.0.0 in /usr/local/lib/python3.6/dist-packages (from google-auth>=1.6.1->kfp) (4.0.0)\n",
      "Requirement already satisfied: rsa<4.1,>=3.1.4 in /usr/local/lib/python3.6/dist-packages (from google-auth>=1.6.1->kfp) (4.0)\n",
      "Requirement already satisfied: setuptools>=40.3.0 in /usr/local/lib/python3.6/dist-packages (from google-auth>=1.6.1->kfp) (44.0.0)\n",
      "Requirement already satisfied: google-cloud-core<2.0dev,>=1.2.0 in /usr/local/lib/python3.6/dist-packages (from google-cloud-storage>=1.13.0->kfp) (1.3.0)\n",
      "Requirement already satisfied: google-resumable-media<0.6dev,>=0.5.0 in /usr/local/lib/python3.6/dist-packages (from google-cloud-storage>=1.13.0->kfp) (0.5.0)\n",
      "Requirement already satisfied: google-api-core<2.0.0dev,>=1.16.0 in /usr/local/lib/python3.6/dist-packages (from google-cloud-core<2.0dev,>=1.2.0->google-cloud-storage>=1.13.0->kfp) (1.16.0)\n",
      "Requirement already satisfied: googleapis-common-protos<2.0dev,>=1.6.0 in /usr/local/lib/python3.6/dist-packages (from google-api-core<2.0.0dev,>=1.16.0->google-cloud-core<2.0dev,>=1.2.0->google-cloud-storage>=1.13.0->kfp) (1.51.0)\n",
      "Requirement already satisfied: protobuf>=3.4.0 in /usr/local/lib/python3.6/dist-packages (from google-api-core<2.0.0dev,>=1.16.0->google-cloud-core<2.0dev,>=1.2.0->google-cloud-storage>=1.13.0->kfp) (3.11.2)\n",
      "Requirement already satisfied: requests<3.0.0dev,>=2.18.0 in /usr/local/lib/python3.6/dist-packages (from google-api-core<2.0.0dev,>=1.16.0->google-cloud-core<2.0dev,>=1.2.0->google-cloud-storage>=1.13.0->kfp) (2.22.0)\n",
      "Requirement already satisfied: pytz in /usr/local/lib/python3.6/dist-packages (from google-api-core<2.0.0dev,>=1.16.0->google-cloud-core<2.0dev,>=1.2.0->google-cloud-storage>=1.13.0->kfp) (2019.3)\n",
      "Requirement already satisfied: pyrsistent>=0.14.0 in /usr/local/lib/python3.6/dist-packages (from jsonschema>=3.0.1->kfp) (0.15.7)\n",
      "Requirement already satisfied: importlib-metadata in /usr/local/lib/python3.6/dist-packages (from jsonschema>=3.0.1->kfp) (1.4.0)\n",
      "Requirement already satisfied: attrs>=17.4.0 in /usr/local/lib/python3.6/dist-packages (from jsonschema>=3.0.1->kfp) (19.3.0)\n",
      "Requirement already satisfied: certifi in /usr/local/lib/python3.6/dist-packages (from kfp-server-api<2.0.0,>=1.1.2->kfp) (2019.11.28)\n",
      "Requirement already satisfied: urllib3>=1.15 in /usr/local/lib/python3.6/dist-packages (from kfp-server-api<2.0.0,>=1.1.2->kfp) (1.25.7)\n",
      "Requirement already satisfied: python-dateutil in /usr/local/lib/python3.6/dist-packages (from kfp-server-api<2.0.0,>=1.1.2->kfp) (2.8.1)\n",
      "Requirement already satisfied: requests-oauthlib in /usr/local/lib/python3.6/dist-packages (from kubernetes<12.0.0,>=8.0.0->kfp) (1.3.0)\n",
      "Requirement already satisfied: websocket-client!=0.40.0,!=0.41.*,!=0.42.*,>=0.32.0 in /usr/local/lib/python3.6/dist-packages (from kubernetes<12.0.0,>=8.0.0->kfp) (0.57.0)\n",
      "Requirement already satisfied: pyasn1<0.5.0,>=0.4.6 in /usr/local/lib/python3.6/dist-packages (from pyasn1-modules>=0.2.1->google-auth>=1.6.1->kfp) (0.4.8)\n",
      "Requirement already satisfied: idna<2.9,>=2.5 in /usr/lib/python3/dist-packages (from requests<3.0.0dev,>=2.18.0->google-api-core<2.0.0dev,>=1.16.0->google-cloud-core<2.0dev,>=1.2.0->google-cloud-storage>=1.13.0->kfp) (2.6)\n",
      "Requirement already satisfied: chardet<3.1.0,>=3.0.2 in /usr/local/lib/python3.6/dist-packages (from requests<3.0.0dev,>=2.18.0->google-api-core<2.0.0dev,>=1.16.0->google-cloud-core<2.0dev,>=1.2.0->google-cloud-storage>=1.13.0->kfp) (3.0.4)\n",
      "Requirement already satisfied: wrapt<2,>=1.10 in /usr/local/lib/python3.6/dist-packages (from Deprecated->kfp) (1.11.2)\n",
      "Requirement already satisfied: zipp>=0.5 in /usr/local/lib/python3.6/dist-packages (from importlib-metadata->jsonschema>=3.0.1->kfp) (0.6.0)\n",
      "Requirement already satisfied: more-itertools in /usr/local/lib/python3.6/dist-packages (from zipp>=0.5->importlib-metadata->jsonschema>=3.0.1->kfp) (8.0.2)\n",
      "Requirement already satisfied: oauthlib>=3.0.0 in /usr/local/lib/python3.6/dist-packages (from requests-oauthlib->kubernetes<12.0.0,>=8.0.0->kfp) (3.1.0)\n",
      "Requirement already satisfied: wheel in /usr/lib/python3/dist-packages (from strip-hints->kfp) (0.30.0)\n"
     ]
    }
   ],
   "source": [
    "!pip3 install kfp --upgrade --user"
   ]
  },
  {
   "cell_type": "markdown",
   "metadata": {},
   "source": [
    "**Please restart kernel before you proceed**"
   ]
  },
  {
   "cell_type": "code",
   "execution_count": 1,
   "metadata": {},
   "outputs": [],
   "source": [
    "import kfp\n",
    "from kfp import dsl\n",
    "import kfp.components as comp"
   ]
  },
  {
   "cell_type": "markdown",
   "metadata": {},
   "source": [
    "# 2. Write python functions for each step in the ML Workflow."
   ]
  },
  {
   "cell_type": "code",
   "execution_count": 2,
   "metadata": {},
   "outputs": [],
   "source": [
    "# create  directory for outputs.\n",
    "output_dir = \"/home/jovyan/KubeflowTraining/Day 2/KubeflowComponentsAndPipeline/Labs/3_Tensorflow_Example/store/\""
   ]
  },
  {
   "cell_type": "markdown",
   "metadata": {},
   "source": [
    "### a. Defining the function that downloads the data from [storage](https://github.com/MavenCode/KubeflowTraining/tree/master/Data)."
   ]
  },
  {
   "cell_type": "code",
   "execution_count": 3,
   "metadata": {},
   "outputs": [],
   "source": [
    "def obtain_data(data_path, working_data):\n",
    "    import pickle\n",
    "    import sys, subprocess;\n",
    "    subprocess.run([sys.executable, '-m', 'pip', 'install','pandas==0.23.4'])\n",
    "    import pandas as pd\n",
    "    \n",
    "     #reading the data from its source\n",
    "    data = pd.read_csv(\"https://raw.githubusercontent.com/MavenCode/KubeflowTraining/master/Data/Churn_Modelling.csv\")\n",
    "    #Save the data as a pickle file to be used by the preprocess component.\n",
    "    with open(f'{data_path}/{working_data}', 'wb') as f:\n",
    "        pickle.dump(data, f)"
   ]
  },
  {
   "cell_type": "code",
   "execution_count": 4,
   "metadata": {},
   "outputs": [],
   "source": [
    "obtain_data(output_dir, \"working_data\")"
   ]
  },
  {
   "cell_type": "markdown",
   "metadata": {},
   "source": [
    "### b. Defining the preprocess function"
   ]
  },
  {
   "cell_type": "code",
   "execution_count": 5,
   "metadata": {},
   "outputs": [],
   "source": [
    "def preprocess(data_path,working_data,train_data,test_data):\n",
    "    import pickle\n",
    "    # import Library\n",
    "    import sys, subprocess;\n",
    "    subprocess.run([sys.executable, '-m', 'pip', 'install','scikit-learn==0.22'])\n",
    "    subprocess.run([sys.executable, '-m', 'pip', 'install','pandas==0.23.4'])\n",
    "    import pandas as pd\n",
    "    import numpy as np\n",
    "    from sklearn.preprocessing import LabelEncoder\n",
    "    from sklearn.preprocessing import OneHotEncoder\n",
    "    from sklearn.model_selection import train_test_split\n",
    "    from sklearn.preprocessing import StandardScaler \n",
    "\n",
    "    #loading the working data\n",
    "    with open(f'{data_path}/{working_data}', 'rb') as f:\n",
    "        data = pickle.load(f)\n",
    "\n",
    "    #dropping some columns that are not needed\n",
    "    data = data.drop(columns=['RowNumber','CustomerId','Surname'], axis=1)\n",
    "    #data features\n",
    "    X = data.iloc[:,:-1]\n",
    "    #target data\n",
    "    y = data.iloc[:,-1:]   \n",
    "    #encoding the categorical columns\n",
    "    le = LabelEncoder()\n",
    "    ohe = OneHotEncoder()\n",
    "    X['Gender'] = le.fit_transform(X['Gender'])\n",
    "    geo_df = pd.DataFrame(ohe.fit_transform(X[['Geography']]).toarray())\n",
    "\n",
    "    #getting feature name after onehotencoding\n",
    "    geo_df.columns = ohe.get_feature_names(['Geography'])\n",
    "\n",
    "    #merging geo_df with the main data\n",
    "    X = X.join(geo_df) \n",
    "    #dropping the old columns after encoding\n",
    "    X.drop(columns=['Geography'], axis=1, inplace=True)\n",
    "\n",
    "    #splitting the data \n",
    "    X_train,X_test,y_train,y_test = train_test_split( X,y, test_size=0.2, random_state = 42)\n",
    "    #feature scaling\n",
    "    sc =StandardScaler()\n",
    "    X_train = sc.fit_transform(X_train)\n",
    "    X_test = sc.transform(X_test)\n",
    "    #saving the values from the dataframe\n",
    "    y_train = y_train.values\n",
    "    y_test = y_test.values\n",
    "    \n",
    "    #Save the train_data as a pickle file to be used by the train component.\n",
    "    with open(f'{data_path}/{train_data}', 'wb') as f:\n",
    "        pickle.dump((X_train,  y_train), f)\n",
    "        \n",
    "    #Save the test_data as a pickle file to be used by the predict component.\n",
    "    with open(f'{data_path}/{test_data}', 'wb') as f:\n",
    "        pickle.dump((X_test,  y_test), f)\n",
    "    \n",
    "    return(print('Done!'))"
   ]
  },
  {
   "cell_type": "code",
   "execution_count": 6,
   "metadata": {},
   "outputs": [
    {
     "name": "stdout",
     "output_type": "stream",
     "text": [
      "Done!\n"
     ]
    }
   ],
   "source": [
    "preprocess(output_dir,\"working_data\", \"train_data\",\"test_data\")"
   ]
  },
  {
   "cell_type": "markdown",
   "metadata": {},
   "source": [
    "### c. Defining the train function"
   ]
  },
  {
   "cell_type": "code",
   "execution_count": 8,
   "metadata": {},
   "outputs": [],
   "source": [
    "def train_tensorflow(data_path,train_data, model):\n",
    "    import pickle\n",
    "    # import Library\n",
    "    import numpy as np\n",
    "    from tensorflow import keras\n",
    "    from tensorflow.keras.models import Sequential\n",
    "    from tensorflow.keras.layers import Dense\n",
    "\n",
    "    #loading the train data\n",
    "    with open(f'{data_path}/{train_data}', 'rb') as f:\n",
    "        train_data = pickle.load(f)\n",
    "    # Separate the X_train from y_train.\n",
    "    X_train, y_train = train_data\n",
    "    \n",
    "    #initializing the classifier model with its input, hidden and output layers\n",
    "    classifier = Sequential()\n",
    "    classifier.add(Dense(units = 16, activation='relu', input_dim=12,))\n",
    "    classifier.add(Dense(units = 8, activation='relu'))\n",
    "    classifier.add(Dense(units = 1, activation='sigmoid'))\n",
    "    #Compiling the classifier model with Stochastic Gradient Desecnt\n",
    "    classifier.compile(optimizer = 'adam', loss='binary_crossentropy' , metrics =['accuracy'])\n",
    "    #fitting the model\n",
    "    classifier.fit(X_train, y_train, batch_size=10, epochs=50)\n",
    "    #saving the model\n",
    "    classifier.save(f'{data_path}/{model}')    "
   ]
  },
  {
   "cell_type": "code",
   "execution_count": 9,
   "metadata": {},
   "outputs": [
    {
     "name": "stdout",
     "output_type": "stream",
     "text": [
      "Train on 8000 samples\n",
      "Epoch 1/50\n",
      "8000/8000 [==============================] - 2s 254us/sample - loss: 0.4947 - accuracy: 0.7653\n",
      "Epoch 2/50\n",
      "8000/8000 [==============================] - 2s 196us/sample - loss: 0.4059 - accuracy: 0.8256\n",
      "Epoch 3/50\n",
      "8000/8000 [==============================] - 2s 195us/sample - loss: 0.3705 - accuracy: 0.8476\n",
      "Epoch 4/50\n",
      "8000/8000 [==============================] - 2s 217us/sample - loss: 0.3557 - accuracy: 0.8516\n",
      "Epoch 5/50\n",
      "8000/8000 [==============================] - 2s 197us/sample - loss: 0.3496 - accuracy: 0.8536\n",
      "Epoch 6/50\n",
      "8000/8000 [==============================] - 2s 210us/sample - loss: 0.3465 - accuracy: 0.8545\n",
      "Epoch 7/50\n",
      "8000/8000 [==============================] - 2s 228us/sample - loss: 0.3438 - accuracy: 0.8560\n",
      "Epoch 8/50\n",
      "8000/8000 [==============================] - 2s 204us/sample - loss: 0.3412 - accuracy: 0.8591\n",
      "Epoch 9/50\n",
      "8000/8000 [==============================] - 2s 203us/sample - loss: 0.3400 - accuracy: 0.8595\n",
      "Epoch 10/50\n",
      "8000/8000 [==============================] - 2s 193us/sample - loss: 0.3389 - accuracy: 0.8591\n",
      "Epoch 11/50\n",
      "8000/8000 [==============================] - 2s 204us/sample - loss: 0.3374 - accuracy: 0.8584\n",
      "Epoch 12/50\n",
      "8000/8000 [==============================] - 2s 201us/sample - loss: 0.3367 - accuracy: 0.8616\n",
      "Epoch 13/50\n",
      "8000/8000 [==============================] - 2s 193us/sample - loss: 0.3356 - accuracy: 0.8614\n",
      "Epoch 14/50\n",
      "8000/8000 [==============================] - 2s 205us/sample - loss: 0.3348 - accuracy: 0.8614\n",
      "Epoch 15/50\n",
      "8000/8000 [==============================] - 2s 203us/sample - loss: 0.3346 - accuracy: 0.8602\n",
      "Epoch 16/50\n",
      "8000/8000 [==============================] - 2s 193us/sample - loss: 0.3333 - accuracy: 0.8616\n",
      "Epoch 17/50\n",
      "8000/8000 [==============================] - 2s 212us/sample - loss: 0.3324 - accuracy: 0.8626\n",
      "Epoch 18/50\n",
      "8000/8000 [==============================] - 2s 212us/sample - loss: 0.3316 - accuracy: 0.8625\n",
      "Epoch 19/50\n",
      "8000/8000 [==============================] - 2s 199us/sample - loss: 0.3310 - accuracy: 0.8616\n",
      "Epoch 20/50\n",
      "8000/8000 [==============================] - 2s 207us/sample - loss: 0.3312 - accuracy: 0.8625\n",
      "Epoch 21/50\n",
      "8000/8000 [==============================] - 2s 212us/sample - loss: 0.3304 - accuracy: 0.8612\n",
      "Epoch 22/50\n",
      "8000/8000 [==============================] - 2s 199us/sample - loss: 0.3297 - accuracy: 0.8622\n",
      "Epoch 23/50\n",
      "8000/8000 [==============================] - 2s 214us/sample - loss: 0.3289 - accuracy: 0.8621\n",
      "Epoch 24/50\n",
      "8000/8000 [==============================] - 2s 205us/sample - loss: 0.3288 - accuracy: 0.8629\n",
      "Epoch 25/50\n",
      "8000/8000 [==============================] - 2s 189us/sample - loss: 0.3275 - accuracy: 0.8640\n",
      "Epoch 26/50\n",
      "8000/8000 [==============================] - 2s 209us/sample - loss: 0.3282 - accuracy: 0.8616\n",
      "Epoch 27/50\n",
      "8000/8000 [==============================] - 2s 194us/sample - loss: 0.3282 - accuracy: 0.8633\n",
      "Epoch 28/50\n",
      "8000/8000 [==============================] - 2s 197us/sample - loss: 0.3269 - accuracy: 0.8654\n",
      "Epoch 29/50\n",
      "8000/8000 [==============================] - 2s 197us/sample - loss: 0.3269 - accuracy: 0.8656\n",
      "Epoch 30/50\n",
      "8000/8000 [==============================] - 2s 202us/sample - loss: 0.3264 - accuracy: 0.8640\n",
      "Epoch 31/50\n",
      "8000/8000 [==============================] - 2s 192us/sample - loss: 0.3262 - accuracy: 0.8639\n",
      "Epoch 32/50\n",
      "8000/8000 [==============================] - 2s 204us/sample - loss: 0.3264 - accuracy: 0.8660\n",
      "Epoch 33/50\n",
      "8000/8000 [==============================] - 2s 196us/sample - loss: 0.3257 - accuracy: 0.8640\n",
      "Epoch 34/50\n",
      "8000/8000 [==============================] - 2s 199us/sample - loss: 0.3250 - accuracy: 0.8665\n",
      "Epoch 35/50\n",
      "8000/8000 [==============================] - 2s 199us/sample - loss: 0.3253 - accuracy: 0.8649\n",
      "Epoch 36/50\n",
      "8000/8000 [==============================] - 2s 199us/sample - loss: 0.3246 - accuracy: 0.8644\n",
      "Epoch 37/50\n",
      "8000/8000 [==============================] - 2s 202us/sample - loss: 0.3250 - accuracy: 0.8658\n",
      "Epoch 38/50\n",
      "8000/8000 [==============================] - 2s 204us/sample - loss: 0.3241 - accuracy: 0.8640\n",
      "Epoch 39/50\n",
      "8000/8000 [==============================] - 2s 212us/sample - loss: 0.3240 - accuracy: 0.8661\n",
      "Epoch 40/50\n",
      "8000/8000 [==============================] - 2s 191us/sample - loss: 0.3242 - accuracy: 0.8669\n",
      "Epoch 41/50\n",
      "8000/8000 [==============================] - 2s 206us/sample - loss: 0.3239 - accuracy: 0.8669\n",
      "Epoch 42/50\n",
      "8000/8000 [==============================] - 2s 194us/sample - loss: 0.3236 - accuracy: 0.8669\n",
      "Epoch 43/50\n",
      "8000/8000 [==============================] - 2s 213us/sample - loss: 0.3236 - accuracy: 0.8649\n",
      "Epoch 44/50\n",
      "8000/8000 [==============================] - 2s 201us/sample - loss: 0.3234 - accuracy: 0.8650\n",
      "Epoch 45/50\n",
      "8000/8000 [==============================] - 2s 200us/sample - loss: 0.3228 - accuracy: 0.8656\n",
      "Epoch 46/50\n",
      "8000/8000 [==============================] - 2s 188us/sample - loss: 0.3219 - accuracy: 0.8668\n",
      "Epoch 47/50\n",
      "8000/8000 [==============================] - 2s 192us/sample - loss: 0.3223 - accuracy: 0.8666\n",
      "Epoch 48/50\n",
      "8000/8000 [==============================] - 2s 196us/sample - loss: 0.3222 - accuracy: 0.8648\n",
      "Epoch 49/50\n",
      "8000/8000 [==============================] - 2s 200us/sample - loss: 0.3225 - accuracy: 0.8666\n",
      "Epoch 50/50\n",
      "8000/8000 [==============================] - 2s 203us/sample - loss: 0.3224 - accuracy: 0.8664\n",
      "WARNING:tensorflow:From /usr/local/lib/python3.6/dist-packages/tensorflow_core/python/ops/resource_variable_ops.py:1786: calling BaseResourceVariable.__init__ (from tensorflow.python.ops.resource_variable_ops) with constraint is deprecated and will be removed in a future version.\n",
      "Instructions for updating:\n",
      "If using Keras pass *_constraint arguments to layers.\n",
      "INFO:tensorflow:Assets written to: /home/jovyan/KubeflowTraining/Day 2/Kubeflow components and pipeline/Labs/TensorFlow/store//model/assets\n"
     ]
    }
   ],
   "source": [
    "train_tensorflow(output_dir, \"train_data\",\"model\")"
   ]
  },
  {
   "cell_type": "markdown",
   "metadata": {},
   "source": [
    "### d. Defining predict function"
   ]
  },
  {
   "cell_type": "code",
   "execution_count": 10,
   "metadata": {},
   "outputs": [],
   "source": [
    "def predict_tensorflow(data_path,test_data,model):\n",
    "    import pickle\n",
    "    import numpy as np\n",
    "    from tensorflow import keras\n",
    "    from tensorflow.keras.models import load_model\n",
    "    \n",
    "    #loading the X_test and y_test\n",
    "    with open(f'{data_path}/{test_data}', 'rb') as f:\n",
    "        test_data = pickle.load(f)\n",
    "    # Separate the X_test from y_test.\n",
    "    X_test, y_test = test_data\n",
    "    #loading the model\n",
    "    classifier = load_model(f'{data_path}/{model}')\n",
    "\n",
    "    #Evaluate the model and print the results\n",
    "    test_loss, test_acc = classifier.evaluate(X_test,  y_test, verbose=0)\n",
    "    \n",
    "    #model's prediction on test data\n",
    "    y_pred = classifier.predict(X_test)\n",
    "    # create a threshold for the confution matrics\n",
    "    y_pred=(y_pred>0.5)\n",
    "\n",
    "    #saving the test_loss and test_acc\n",
    "    with open(f'{data_path}/performance.txt', 'w') as f:\n",
    "        f.write(\"Test_loss: {}, Test_accuracy: {} \".format(test_loss,test_acc))\n",
    "\n",
    "    #saving the predictions\n",
    "    with open(f'{data_path}/results.txt', 'w') as result:\n",
    "        result.write(\" Prediction: {}, Actual: {} \".format(y_pred,y_test.astype(np.bool)))"
   ]
  },
  {
   "cell_type": "code",
   "execution_count": 11,
   "metadata": {},
   "outputs": [],
   "source": [
    "predict_tensorflow(output_dir,\"test_data\", \"model\")"
   ]
  },
  {
   "cell_type": "markdown",
   "metadata": {},
   "source": [
    "# 3. Create Kubeflow componets for each step from the python functions defined above ."
   ]
  },
  {
   "cell_type": "code",
   "execution_count": 12,
   "metadata": {},
   "outputs": [],
   "source": [
    "# create light weight components\n",
    "obtain_data_op = kfp.components.create_component_from_func(obtain_data,base_image=\"python:3.7.1\")\n",
    "preprocess_op = kfp.components.create_component_from_func(preprocess,base_image=\"python:3.7.1\")\n",
    "train_op = kfp.components.create_component_from_func(train_tensorflow, base_image=\"tensorflow/tensorflow:latest-gpu-py3\")\n",
    "predict_op = kfp.components.create_component_from_func(predict_tensorflow, base_image=\"tensorflow/tensorflow:latest-gpu-py3\")"
   ]
  },
  {
   "cell_type": "markdown",
   "metadata": {},
   "source": [
    "# 4. Define the Kubeflow Pipeline"
   ]
  },
  {
   "cell_type": "code",
   "execution_count": 13,
   "metadata": {},
   "outputs": [],
   "source": [
    "# create client that would enable communication with the Pipelines API server \n",
    "client = kfp.Client()"
   ]
  },
  {
   "cell_type": "code",
   "execution_count": 14,
   "metadata": {},
   "outputs": [],
   "source": [
    "# define pipeline\n",
    "@dsl.pipeline(name=\"Churn Pipeline\", description=\"Performs Preprocessing, training and prediction of churn rate\")\n",
    "\n",
    "# Define parameters to be fed into pipeline\n",
    "def churn_lightweight_tensorflow_pipeline(data_path: str,\n",
    "                                          working_data: str,\n",
    "                                         train_data: str,\n",
    "                                         test_data:str,\n",
    "                                         model:str):\n",
    "    \n",
    "    # Define volume to share data between components.\n",
    "    volume_op = dsl.VolumeOp(\n",
    "    name=\"data_volume\",\n",
    "    resource_name=\"data-volume\",\n",
    "    size=\"1Gi\",\n",
    "    modes=dsl.VOLUME_MODE_RWO)\n",
    "\n",
    "    #create obtain data component\n",
    "    obtain_data_container = obtain_data_op(data_path, working_data).add_pvolumes({data_path: volume_op.volume})\n",
    "    # Create preprocess components.\n",
    "    preprocess_container = preprocess_op(data_path, working_data, train_data, test_data).add_pvolumes({data_path: obtain_data_container.pvolume})\n",
    "    # Create train component.\n",
    "    train_container = train_op(data_path, train_data, model).add_pvolumes({data_path: preprocess_container.pvolume})\n",
    "    # Create prediction component.\n",
    "    predict_container = predict_op(data_path, test_data, model).add_pvolumes({data_path: train_container.pvolume})\n",
    "    \n",
    "    # Print the result of the prediction\n",
    "    result_container = dsl.ContainerOp(\n",
    "        name=\"print_prediction\",\n",
    "        image='library/bash:4.4.23',\n",
    "        pvolumes={data_path: predict_container.pvolume},\n",
    "        arguments=['cat', f'{data_path}/results.txt']\n",
    "        )"
   ]
  },
  {
   "cell_type": "markdown",
   "metadata": {},
   "source": [
    "# 5. Compile and Run the Kubeflow Pipeline"
   ]
  },
  {
   "cell_type": "code",
   "execution_count": 15,
   "metadata": {},
   "outputs": [
    {
     "name": "stderr",
     "output_type": "stream",
     "text": [
      "/home/jovyan/.local/lib/python3.6/site-packages/kfp/dsl/_container_op.py:1039: FutureWarning: Please create reusable components instead of constructing ContainerOp instances directly. Reusable components are shareable, portable and have compatibility and support guarantees. Please see the documentation: https://www.kubeflow.org/docs/pipelines/sdk/component-development/#writing-your-component-definition-file The components can be created manually (or, in case of python, using kfp.components.create_component_from_func or func_to_container_op) and then loaded using kfp.components.load_component_from_file, load_component_from_uri or load_component_from_text: https://kubeflow-pipelines.readthedocs.io/en/stable/source/kfp.components.html#kfp.components.load_component_from_file\n",
      "  category=FutureWarning,\n"
     ]
    },
    {
     "data": {
      "text/html": [
       "<a href=\"/pipeline/#/experiments/details/4f86b059-ed1f-452e-9971-4958452dc60f\" target=\"_blank\" >Experiment details</a>."
      ],
      "text/plain": [
       "<IPython.core.display.HTML object>"
      ]
     },
     "metadata": {},
     "output_type": "display_data"
    },
    {
     "data": {
      "text/html": [
       "<a href=\"/pipeline/#/runs/details/6eb6c4f7-8c2b-4bdc-bdf7-7465188ae372\" target=\"_blank\" >Run details</a>."
      ],
      "text/plain": [
       "<IPython.core.display.HTML object>"
      ]
     },
     "metadata": {},
     "output_type": "display_data"
    }
   ],
   "source": [
    "DATA_PATH = '/mnt'\n",
    "DATA = \"working_data\"\n",
    "TRAIN_DATA = \"train_data\"\n",
    "TEST_DATA = \"test_data\"\n",
    "MODEL_FILE= \"classifier.h5\"\n",
    "\n",
    "\n",
    "pipeline_func = churn_lightweight_tensorflow_pipeline\n",
    "\n",
    "experiment_name = 'churn_prediction_tensorflow_lightweight'\n",
    "run_name = pipeline_func.__name__ + ' run'\n",
    "\n",
    "arguments = {\"data_path\":DATA_PATH,\n",
    "             \"working_data\": DATA,\n",
    "            \"train_data\": TRAIN_DATA,\n",
    "            \"test_data\": TEST_DATA,\n",
    "            \"model\":MODEL_FILE}\n",
    "\n",
    "# Compile pipeline to generate compressed YAML definition of the pipeline.\n",
    "kfp.compiler.Compiler().compile(pipeline_func,  \n",
    "  '{}.zip'.format(experiment_name))\n",
    "\n",
    "# Submit pipeline directly from pipeline function\n",
    "run_result = client.create_run_from_pipeline_func(pipeline_func, \n",
    "                                                  experiment_name=experiment_name, \n",
    "                                                  run_name=run_name, \n",
    "                                                  arguments=arguments)\n"
   ]
  },
  {
   "cell_type": "code",
   "execution_count": null,
   "metadata": {},
   "outputs": [],
   "source": []
  }
 ],
 "metadata": {
  "kernelspec": {
   "display_name": "Python 3",
   "language": "python",
   "name": "python3"
  },
  "language_info": {
   "codemirror_mode": {
    "name": "ipython",
    "version": 3
   },
   "file_extension": ".py",
   "mimetype": "text/x-python",
   "name": "python",
   "nbconvert_exporter": "python",
   "pygments_lexer": "ipython3",
   "version": "3.6.9"
  }
 },
 "nbformat": 4,
 "nbformat_minor": 4
}
