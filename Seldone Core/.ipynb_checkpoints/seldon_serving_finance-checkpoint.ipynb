{
 "cells": [
  {
   "cell_type": "markdown",
   "metadata": {},
   "source": [
    "### Seldon Core Serving - Financial Data"
   ]
  },
  {
   "cell_type": "code",
   "execution_count": 1,
   "metadata": {},
   "outputs": [
    {
     "name": "stdout",
     "output_type": "stream",
     "text": [
      "namespace/seldon created\r\n"
     ]
    }
   ],
   "source": [
    "#create namespace for the seldon serving\n",
    "!kubectl create ns seldon"
   ]
  },
  {
   "cell_type": "code",
   "execution_count": 2,
   "metadata": {},
   "outputs": [
    {
     "name": "stdout",
     "output_type": "stream",
     "text": [
      "namespace/seldon labeled\r\n"
     ]
    }
   ],
   "source": [
    "# Enable inference service on the namespace\n",
    "!kubectl label namespace seldon serving.kubeflow.org/inferenceservice=enabled"
   ]
  },
  {
   "cell_type": "code",
   "execution_count": 3,
   "metadata": {},
   "outputs": [
    {
     "name": "stdout",
     "output_type": "stream",
     "text": [
      "seldondeployment.machinelearning.seldon.io/churn created\r\n"
     ]
    }
   ],
   "source": [
    "#Apply the seldon deployment\n",
    "!kubectl apply -f seldon_deploy.yaml -n seldon"
   ]
  },
  {
   "cell_type": "code",
   "execution_count": 4,
   "metadata": {},
   "outputs": [
    {
     "name": "stdout",
     "output_type": "stream",
     "text": [
      "NAME                                          READY   STATUS     RESTARTS   AGE\r\n",
      "churn-default-0-classifier-587b8f4fd4-bgt6b   0/2     Init:0/1   0          7s\r\n"
     ]
    }
   ],
   "source": [
    "#get the pods\n",
    "!kubectl get pods -n seldon"
   ]
  },
  {
   "cell_type": "code",
   "execution_count": 27,
   "metadata": {},
   "outputs": [
    {
     "name": "stdout",
     "output_type": "stream",
     "text": [
      "Name:         churn-default-0-classifier-587b8f4fd4-hxhtz\n",
      "Namespace:    seldon\n",
      "Priority:     0\n",
      "Node:         ip-172-16-0-108/172.16.0.108\n",
      "Start Time:   Sun, 07 Feb 2021 18:36:05 +0000\n",
      "Labels:       app=churn-default-0-classifier\n",
      "              app.kubernetes.io/managed-by=seldon-core\n",
      "              fluentd=true\n",
      "              pod-template-hash=587b8f4fd4\n",
      "              seldon-app=churn-default\n",
      "              seldon-app-svc=churn-default-classifier\n",
      "              seldon-deployment-id=churn\n",
      "              seldon.io/default=true\n",
      "              seldon.io/model=true\n",
      "              version=default\n",
      "Annotations:  cni.projectcalico.org/podIP: 10.1.117.17/32\n",
      "              cni.projectcalico.org/podIPs: 10.1.117.17/32\n",
      "              prometheus.io/path: /prometheus\n",
      "              prometheus.io/scrape: true\n",
      "Status:       Running\n",
      "IP:           10.1.117.17\n",
      "IPs:\n",
      "  IP:           10.1.117.17\n",
      "Controlled By:  ReplicaSet/churn-default-0-classifier-587b8f4fd4\n",
      "Init Containers:\n",
      "  classifier-model-initializer:\n",
      "    Container ID:  containerd://fe21494a9069ed05ca2db9eba3217067ec5b4245a6627dfb7e619be0ef32c4b5\n",
      "    Image:         gcr.io/kfserving/storage-initializer:v0.4.0\n",
      "    Image ID:      gcr.io/kfserving/storage-initializer@sha256:02e089391bdc50772393c8db2baa330f20147b7565355f5867f2291458cd60f7\n",
      "    Port:          <none>\n",
      "    Host Port:     <none>\n",
      "    Args:\n",
      "      gs://mavencode-churn-model/customer-churn/churn01\n",
      "      /mnt/models\n",
      "    State:          Terminated\n",
      "      Reason:       Completed\n",
      "      Exit Code:    0\n",
      "      Started:      Sun, 07 Feb 2021 18:36:06 +0000\n",
      "      Finished:     Sun, 07 Feb 2021 18:36:08 +0000\n",
      "    Ready:          True\n",
      "    Restart Count:  0\n",
      "    Limits:\n",
      "      cpu:     1\n",
      "      memory:  1Gi\n",
      "    Requests:\n",
      "      cpu:        100m\n",
      "      memory:     100Mi\n",
      "    Environment:  <none>\n",
      "    Mounts:\n",
      "      /mnt/models from classifier-provision-location (rw)\n",
      "      /var/run/secrets/kubernetes.io/serviceaccount from default-token-gr9tr (ro)\n",
      "Containers:\n",
      "  classifier:\n",
      "    Container ID:   containerd://964ac81678be84007acfde9c00483966ebd723b3bd0d5802db62aad8cf3fbc4c\n",
      "    Image:          seldonio/sklearnserver_rest:1.4.0\n",
      "    Image ID:       docker.io/seldonio/sklearnserver_rest@sha256:dc937b074bd46c122ce628ca89bbaa44a9014d99a23da492337dbfd9e43c0b31\n",
      "    Ports:          6000/TCP, 9000/TCP\n",
      "    Host Ports:     0/TCP, 0/TCP\n",
      "    State:          Running\n",
      "      Started:      Sun, 07 Feb 2021 18:36:08 +0000\n",
      "    Ready:          True\n",
      "    Restart Count:  0\n",
      "    Liveness:       tcp-socket :http delay=60s timeout=1s period=5s #success=1 #failure=3\n",
      "    Readiness:      tcp-socket :http delay=20s timeout=1s period=5s #success=1 #failure=3\n",
      "    Environment:\n",
      "      PREDICTIVE_UNIT_SERVICE_PORT:          9000\n",
      "      PREDICTIVE_UNIT_ID:                    classifier\n",
      "      PREDICTIVE_UNIT_IMAGE:                 seldonio/sklearnserver_rest:1.4.0\n",
      "      PREDICTOR_ID:                          default\n",
      "      PREDICTOR_LABELS:                      {\"version\":\"default\"}\n",
      "      SELDON_DEPLOYMENT_ID:                  churn\n",
      "      SELDON_EXECUTOR_ENABLED:               true\n",
      "      PREDICTIVE_UNIT_METRICS_SERVICE_PORT:  6000\n",
      "      PREDICTIVE_UNIT_METRICS_ENDPOINT:      /prometheus\n",
      "      PREDICTIVE_UNIT_PARAMETERS:            [{\"name\":\"model_uri\",\"value\":\"/mnt/models\",\"type\":\"STRING\"}]\n",
      "    Mounts:\n",
      "      /etc/podinfo from seldon-podinfo (rw)\n",
      "      /mnt/models from classifier-provision-location (ro)\n",
      "      /var/run/secrets/kubernetes.io/serviceaccount from default-token-gr9tr (ro)\n",
      "  seldon-container-engine:\n",
      "    Container ID:  containerd://8e4ff0c41d159b32f9ee074b8cf7edeef43035d1dab0ec4a1cf57314bb4b6b2b\n",
      "    Image:         docker.io/seldonio/seldon-core-executor:1.4.0\n",
      "    Image ID:      docker.io/seldonio/seldon-core-executor@sha256:ad7bc4cbfd1bdc53c070610893044dc7b674c11695700a971dbdb11f430f24e8\n",
      "    Ports:         8000/TCP, 8000/TCP, 5001/TCP\n",
      "    Host Ports:    0/TCP, 0/TCP, 0/TCP\n",
      "    Args:\n",
      "      --sdep\n",
      "      churn\n",
      "      --namespace\n",
      "      seldon\n",
      "      --predictor\n",
      "      default\n",
      "      --http_port\n",
      "      8000\n",
      "      --grpc_port\n",
      "      5001\n",
      "      --transport\n",
      "      rest\n",
      "      --protocol\n",
      "      seldon\n",
      "      --prometheus_path\n",
      "      /prometheus\n",
      "      --server_type\n",
      "      rpc\n",
      "    State:          Running\n",
      "      Started:      Sun, 07 Feb 2021 18:36:09 +0000\n",
      "    Ready:          True\n",
      "    Restart Count:  0\n",
      "    Limits:\n",
      "      cpu:     500m\n",
      "      memory:  512Mi\n",
      "    Requests:\n",
      "      cpu:      500m\n",
      "      memory:   512Mi\n",
      "    Liveness:   http-get http://:8000/live delay=20s timeout=60s period=5s #success=1 #failure=3\n",
      "    Readiness:  http-get http://:8000/ready delay=20s timeout=60s period=5s #success=1 #failure=3\n",
      "    Environment:\n",
      "      ENGINE_PREDICTOR:                 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\n",
      "      REQUEST_LOGGER_DEFAULT_ENDPOINT:  http://default-broker\n",
      "      SELDON_LOG_MESSAGES_EXTERNALLY:   false\n",
      "    Mounts:\n",
      "      /etc/podinfo from seldon-podinfo (rw)\n",
      "      /var/run/secrets/kubernetes.io/serviceaccount from default-token-gr9tr (ro)\n",
      "Conditions:\n",
      "  Type              Status\n",
      "  Initialized       True \n",
      "  Ready             True \n",
      "  ContainersReady   True \n",
      "  PodScheduled      True \n",
      "Volumes:\n",
      "  seldon-podinfo:\n",
      "    Type:  DownwardAPI (a volume populated by information about the pod)\n",
      "    Items:\n",
      "      metadata.annotations -> annotations\n",
      "  classifier-provision-location:\n",
      "    Type:       EmptyDir (a temporary directory that shares a pod's lifetime)\n",
      "    Medium:     \n",
      "    SizeLimit:  <unset>\n",
      "  default-token-gr9tr:\n",
      "    Type:        Secret (a volume populated by a Secret)\n",
      "    SecretName:  default-token-gr9tr\n",
      "    Optional:    false\n",
      "QoS Class:       Burstable\n",
      "Node-Selectors:  <none>\n",
      "Tolerations:     node.kubernetes.io/not-ready:NoExecute for 300s\n",
      "                 node.kubernetes.io/unreachable:NoExecute for 300s\n",
      "Events:\n",
      "  Type    Reason     Age        From                      Message\n",
      "  ----    ------     ----       ----                      -------\n",
      "  Normal  Scheduled  <unknown>                            Successfully assigned seldon/churn-default-0-classifier-587b8f4fd4-hxhtz to ip-172-16-0-108\n",
      "  Normal  Pulled     89s        kubelet, ip-172-16-0-108  Container image \"gcr.io/kfserving/storage-initializer:v0.4.0\" already present on machine\n",
      "  Normal  Created    89s        kubelet, ip-172-16-0-108  Created container classifier-model-initializer\n",
      "  Normal  Started    89s        kubelet, ip-172-16-0-108  Started container classifier-model-initializer\n",
      "  Normal  Pulled     87s        kubelet, ip-172-16-0-108  Container image \"seldonio/sklearnserver_rest:1.4.0\" already present on machine\n",
      "  Normal  Created    87s        kubelet, ip-172-16-0-108  Created container classifier\n",
      "  Normal  Started    87s        kubelet, ip-172-16-0-108  Started container classifier\n",
      "  Normal  Pulled     87s        kubelet, ip-172-16-0-108  Container image \"docker.io/seldonio/seldon-core-executor:1.4.0\" already present on machine\n",
      "  Normal  Created    87s        kubelet, ip-172-16-0-108  Created container seldon-container-engine\n",
      "  Normal  Started    86s        kubelet, ip-172-16-0-108  Started container seldon-container-engine\n"
     ]
    }
   ],
   "source": [
    "# describe the pods\n",
    "!kubectl describe pods churn-default-0-classifier-587b8f4fd4-hxhtz -n seldon"
   ]
  },
  {
   "cell_type": "code",
   "execution_count": 28,
   "metadata": {},
   "outputs": [
    {
     "name": "stdout",
     "output_type": "stream",
     "text": [
      "[I 210207 18:36:07 initializer-entrypoint:13] Initializing, args: src_uri [gs://mavencode-churn-model/customer-churn/churn01] dest_path[ [/mnt/models]\r\n",
      "[I 210207 18:36:07 storage:35] Copying contents of gs://mavencode-churn-model/customer-churn/churn01 to local\r\n",
      "[I 210207 18:36:07 storage:111] Downloading: /mnt/models/model.joblib\r\n",
      "[I 210207 18:36:07 storage:60] Successfully copied gs://mavencode-churn-model/customer-churn/churn01 to /mnt/models\r\n"
     ]
    }
   ],
   "source": [
    "#check container logs\n",
    "!kubectl logs -c classifier-model-initializer -n seldon churn-default-0-classifier-587b8f4fd4-hxhtz"
   ]
  },
  {
   "cell_type": "code",
   "execution_count": 21,
   "metadata": {},
   "outputs": [
    {
     "name": "stdout",
     "output_type": "stream",
     "text": [
      "gateway.networking.istio.io/kubeflow-gateway created\r\n"
     ]
    }
   ],
   "source": [
    "#Apply the gateway to the seldon namespace\n",
    "!kubectl apply -f gateway.yaml -n seldon"
   ]
  },
  {
   "cell_type": "code",
   "execution_count": null,
   "metadata": {},
   "outputs": [],
   "source": [
    "# Port forward to the istio-ingress\n",
    "!kubectl port-forward $(kubectl get pods -l istio=ingressgateway -n istio-system -o jsonpath='{.items[0].metadata.name}') -n istio-system 8004:80"
   ]
  },
  {
   "cell_type": "code",
   "execution_count": 54,
   "metadata": {},
   "outputs": [
    {
     "name": "stdout",
     "output_type": "stream",
     "text": [
      "*   Trying ::1...\n",
      "* TCP_NODELAY set\n",
      "* Connected to localhost (::1) port 8004 (#0)\n",
      "> POST /seldon/seldon/churn/api/v1.0/predictions HTTP/1.1\n",
      "> Host: localhost:8004\n",
      "> User-Agent: curl/7.58.0\n",
      "> Accept: */*\n",
      "> Content-Type: application/json\n",
      "> Content-Length: 76\n",
      "> \n",
      "* upload completely sent off: 76 out of 76 bytes\n",
      "< HTTP/1.1 200 OK\n",
      "< access-control-allow-headers: Accept, Accept-Encoding, Authorization, Content-Length, Content-Type, X-CSRF-Token\n",
      "< access-control-allow-methods: OPTIONS,POST\n",
      "< access-control-allow-origin: *\n",
      "< content-type: application/json\n",
      "< seldon-puid: 20501ad0-8ba9-4546-bcf2-22d3e026634f\n",
      "< x-content-type-options: nosniff\n",
      "< date: Sun, 07 Feb 2021 21:06:06 GMT\n",
      "< content-length: 96\n",
      "< x-envoy-upstream-service-time: 5\n",
      "< server: istio-envoy\n",
      "< \n",
      "{\"data\":{\"names\":[\"t:0\",\"t:1\"],\"ndarray\":[[0.9668499281359363,0.03315007186406375]]},\"meta\":{}}\n",
      "* Connection #0 to host localhost left intact\n"
     ]
    }
   ],
   "source": [
    "!curl -s -k -v  -d '{\"data\":{\"ndarray\":[[0.672, 32, 6, 0.0, 2, 1, 1, 0.895494, 1, 0, 0, 0, 1]]}}'\\\n",
    "     -H \"Content-Type: application/json\"\\\n",
    "    -X POST http://localhost:8004/seldon/seldon/churn/api/v1.0/predictions"
   ]
  }
 ],
 "metadata": {
  "kernelspec": {
   "display_name": "Python 3",
   "language": "python",
   "name": "python3"
  },
  "language_info": {
   "codemirror_mode": {
    "name": "ipython",
    "version": 3
   },
   "file_extension": ".py",
   "mimetype": "text/x-python",
   "name": "python",
   "nbconvert_exporter": "python",
   "pygments_lexer": "ipython3",
   "version": "3.6.9"
  }
 },
 "nbformat": 4,
 "nbformat_minor": 4
}
