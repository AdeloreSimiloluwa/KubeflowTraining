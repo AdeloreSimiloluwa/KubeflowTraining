{
 "cells": [
  {
   "cell_type": "markdown",
   "metadata": {},
   "source": [
    "# 1. Install and import kfp and pip"
   ]
  },
  {
   "cell_type": "code",
   "execution_count": 1,
   "metadata": {},
   "outputs": [
    {
     "name": "stdout",
     "output_type": "stream",
     "text": [
      "Requirement already satisfied: pip in /home/jovyan/.local/lib/python3.6/site-packages (21.0.1)\r\n"
     ]
    }
   ],
   "source": [
    "!python -m pip install --user --upgrade pip"
   ]
  },
  {
   "cell_type": "code",
   "execution_count": 2,
   "metadata": {},
   "outputs": [
    {
     "name": "stdout",
     "output_type": "stream",
     "text": [
      "Requirement already satisfied: kfp in /home/jovyan/.local/lib/python3.6/site-packages (1.4.0)\n",
      "Requirement already satisfied: kfp-pipeline-spec<0.2.0,>=0.1.0 in /home/jovyan/.local/lib/python3.6/site-packages (from kfp) (0.1.6)\n",
      "Requirement already satisfied: kubernetes<12.0.0,>=8.0.0 in /usr/local/lib/python3.6/dist-packages (from kfp) (10.0.1)\n",
      "Requirement already satisfied: click in /home/jovyan/.local/lib/python3.6/site-packages (from kfp) (7.1.2)\n",
      "Requirement already satisfied: fire>=0.3.1 in /home/jovyan/.local/lib/python3.6/site-packages (from kfp) (0.4.0)\n",
      "Requirement already satisfied: Deprecated in /home/jovyan/.local/lib/python3.6/site-packages (from kfp) (1.2.11)\n",
      "Requirement already satisfied: kfp-server-api<2.0.0,>=1.1.2 in /home/jovyan/.local/lib/python3.6/site-packages (from kfp) (1.3.0)\n",
      "Requirement already satisfied: google-auth>=1.6.1 in /usr/local/lib/python3.6/dist-packages (from kfp) (1.11.0)\n",
      "Requirement already satisfied: google-cloud-storage>=1.13.0 in /usr/local/lib/python3.6/dist-packages (from kfp) (1.25.0)\n",
      "Requirement already satisfied: requests-toolbelt>=0.8.0 in /home/jovyan/.local/lib/python3.6/site-packages (from kfp) (0.9.1)\n",
      "Requirement already satisfied: strip-hints in /home/jovyan/.local/lib/python3.6/site-packages (from kfp) (0.1.9)\n",
      "Requirement already satisfied: PyYAML>=5.3 in /usr/local/lib/python3.6/dist-packages (from kfp) (5.3)\n",
      "Requirement already satisfied: tabulate in /home/jovyan/.local/lib/python3.6/site-packages (from kfp) (0.8.9)\n",
      "Requirement already satisfied: docstring-parser>=0.7.3 in /home/jovyan/.local/lib/python3.6/site-packages (from kfp) (0.7.3)\n",
      "Requirement already satisfied: cloudpickle in /usr/local/lib/python3.6/dist-packages (from kfp) (1.2.2)\n",
      "Requirement already satisfied: jsonschema>=3.0.1 in /usr/local/lib/python3.6/dist-packages (from kfp) (3.2.0)\n",
      "Requirement already satisfied: six in /usr/lib/python3/dist-packages (from fire>=0.3.1->kfp) (1.11.0)\n",
      "Requirement already satisfied: termcolor in /usr/local/lib/python3.6/dist-packages (from fire>=0.3.1->kfp) (1.1.0)\n",
      "Requirement already satisfied: rsa<4.1,>=3.1.4 in /usr/local/lib/python3.6/dist-packages (from google-auth>=1.6.1->kfp) (4.0)\n",
      "Requirement already satisfied: pyasn1-modules>=0.2.1 in /usr/local/lib/python3.6/dist-packages (from google-auth>=1.6.1->kfp) (0.2.8)\n",
      "Requirement already satisfied: setuptools>=40.3.0 in /usr/local/lib/python3.6/dist-packages (from google-auth>=1.6.1->kfp) (45.1.0)\n",
      "Requirement already satisfied: cachetools<5.0,>=2.0.0 in /usr/local/lib/python3.6/dist-packages (from google-auth>=1.6.1->kfp) (4.0.0)\n",
      "Requirement already satisfied: google-resumable-media<0.6dev,>=0.5.0 in /usr/local/lib/python3.6/dist-packages (from google-cloud-storage>=1.13.0->kfp) (0.5.0)\n",
      "Requirement already satisfied: google-cloud-core<2.0dev,>=1.2.0 in /usr/local/lib/python3.6/dist-packages (from google-cloud-storage>=1.13.0->kfp) (1.3.0)\n",
      "Requirement already satisfied: google-api-core<2.0.0dev,>=1.16.0 in /usr/local/lib/python3.6/dist-packages (from google-cloud-core<2.0dev,>=1.2.0->google-cloud-storage>=1.13.0->kfp) (1.16.0)\n",
      "Requirement already satisfied: protobuf>=3.4.0 in /home/jovyan/.local/lib/python3.6/site-packages (from google-api-core<2.0.0dev,>=1.16.0->google-cloud-core<2.0dev,>=1.2.0->google-cloud-storage>=1.13.0->kfp) (3.15.1)\n",
      "Requirement already satisfied: requests<3.0.0dev,>=2.18.0 in /usr/local/lib/python3.6/dist-packages (from google-api-core<2.0.0dev,>=1.16.0->google-cloud-core<2.0dev,>=1.2.0->google-cloud-storage>=1.13.0->kfp) (2.22.0)\n",
      "Requirement already satisfied: pytz in /usr/local/lib/python3.6/dist-packages (from google-api-core<2.0.0dev,>=1.16.0->google-cloud-core<2.0dev,>=1.2.0->google-cloud-storage>=1.13.0->kfp) (2019.3)\n",
      "Requirement already satisfied: googleapis-common-protos<2.0dev,>=1.6.0 in /usr/local/lib/python3.6/dist-packages (from google-api-core<2.0.0dev,>=1.16.0->google-cloud-core<2.0dev,>=1.2.0->google-cloud-storage>=1.13.0->kfp) (1.51.0)\n",
      "Requirement already satisfied: attrs>=17.4.0 in /usr/local/lib/python3.6/dist-packages (from jsonschema>=3.0.1->kfp) (19.3.0)\n",
      "Requirement already satisfied: pyrsistent>=0.14.0 in /usr/local/lib/python3.6/dist-packages (from jsonschema>=3.0.1->kfp) (0.15.7)\n",
      "Requirement already satisfied: importlib-metadata in /usr/local/lib/python3.6/dist-packages (from jsonschema>=3.0.1->kfp) (1.4.0)\n",
      "Requirement already satisfied: urllib3>=1.15 in /usr/local/lib/python3.6/dist-packages (from kfp-server-api<2.0.0,>=1.1.2->kfp) (1.25.8)\n",
      "Requirement already satisfied: certifi in /usr/local/lib/python3.6/dist-packages (from kfp-server-api<2.0.0,>=1.1.2->kfp) (2019.11.28)\n",
      "Requirement already satisfied: python-dateutil in /usr/local/lib/python3.6/dist-packages (from kfp-server-api<2.0.0,>=1.1.2->kfp) (2.8.1)\n",
      "Requirement already satisfied: websocket-client!=0.40.0,!=0.41.*,!=0.42.*,>=0.32.0 in /usr/local/lib/python3.6/dist-packages (from kubernetes<12.0.0,>=8.0.0->kfp) (0.57.0)\n",
      "Requirement already satisfied: requests-oauthlib in /usr/local/lib/python3.6/dist-packages (from kubernetes<12.0.0,>=8.0.0->kfp) (1.3.0)\n",
      "Requirement already satisfied: pyasn1<0.5.0,>=0.4.6 in /usr/local/lib/python3.6/dist-packages (from pyasn1-modules>=0.2.1->google-auth>=1.6.1->kfp) (0.4.8)\n",
      "Requirement already satisfied: chardet<3.1.0,>=3.0.2 in /usr/local/lib/python3.6/dist-packages (from requests<3.0.0dev,>=2.18.0->google-api-core<2.0.0dev,>=1.16.0->google-cloud-core<2.0dev,>=1.2.0->google-cloud-storage>=1.13.0->kfp) (3.0.4)\n",
      "Requirement already satisfied: idna<2.9,>=2.5 in /usr/lib/python3/dist-packages (from requests<3.0.0dev,>=2.18.0->google-api-core<2.0.0dev,>=1.16.0->google-cloud-core<2.0dev,>=1.2.0->google-cloud-storage>=1.13.0->kfp) (2.6)\n",
      "Requirement already satisfied: wrapt<2,>=1.10 in /usr/local/lib/python3.6/dist-packages (from Deprecated->kfp) (1.11.2)\n",
      "Requirement already satisfied: zipp>=0.5 in /usr/local/lib/python3.6/dist-packages (from importlib-metadata->jsonschema>=3.0.1->kfp) (2.1.0)\n",
      "Requirement already satisfied: oauthlib>=3.0.0 in /usr/local/lib/python3.6/dist-packages (from requests-oauthlib->kubernetes<12.0.0,>=8.0.0->kfp) (3.1.0)\n",
      "Requirement already satisfied: wheel in /usr/lib/python3/dist-packages (from strip-hints->kfp) (0.30.0)\n"
     ]
    }
   ],
   "source": [
    "!pip3 install kfp --upgrade --user"
   ]
  },
  {
   "cell_type": "markdown",
   "metadata": {},
   "source": [
    "**Please restart kernel before you proceed**"
   ]
  },
  {
   "cell_type": "code",
   "execution_count": 1,
   "metadata": {},
   "outputs": [],
   "source": [
    "import kfp\n",
    "from kfp import dsl\n",
    "import kfp.components as comp"
   ]
  },
  {
   "cell_type": "markdown",
   "metadata": {},
   "source": [
    "# 2. Write python functions for each step in the ML Workflow."
   ]
  },
  {
   "cell_type": "code",
   "execution_count": 5,
   "metadata": {},
   "outputs": [],
   "source": [
    "# create  directory for outputs.\n",
    "output_dir = \"/home/jovyan/KubeflowTraining/Day 2/KubeflowComponentsAndPipeline/Labs/3_TensorFlow_Example/store/\""
   ]
  },
  {
   "cell_type": "markdown",
   "metadata": {},
   "source": [
    "### a. Defining the function that downloads the data from [storage](https://github.com/MavenCode/KubeflowTraining/tree/master/Data)."
   ]
  },
  {
   "cell_type": "code",
   "execution_count": 6,
   "metadata": {},
   "outputs": [],
   "source": [
    "def obtain_data(data_path, working_data):\n",
    "    import pickle\n",
    "    import sys, subprocess;\n",
    "    subprocess.run([sys.executable, '-m', 'pip', 'install','pandas==0.23.4'])\n",
    "    import pandas as pd\n",
    "    \n",
    "     #reading the data from its source\n",
    "    data = pd.read_csv(\"https://raw.githubusercontent.com/MavenCode/KubeflowTraining/master/Data/Churn_Modelling.csv\")\n",
    "    #Save the data as a pickle file to be used by the preprocess component.\n",
    "    with open(f'{data_path}/{working_data}', 'wb') as f:\n",
    "        pickle.dump(data, f)"
   ]
  },
  {
   "cell_type": "code",
   "execution_count": 7,
   "metadata": {},
   "outputs": [],
   "source": [
    "obtain_data(output_dir, \"working_data\")"
   ]
  },
  {
   "cell_type": "markdown",
   "metadata": {},
   "source": [
    "### b. Defining the preprocess function"
   ]
  },
  {
   "cell_type": "code",
   "execution_count": 8,
   "metadata": {},
   "outputs": [],
   "source": [
    "def preprocess(data_path,working_data,train_data,test_data):\n",
    "    import pickle\n",
    "    # import Library\n",
    "    import sys, subprocess;\n",
    "    subprocess.run([sys.executable, '-m', 'pip', 'install','scikit-learn==0.22'])\n",
    "    subprocess.run([sys.executable, '-m', 'pip', 'install','pandas==0.23.4'])\n",
    "    import pandas as pd\n",
    "    import numpy as np\n",
    "    from sklearn.preprocessing import LabelEncoder\n",
    "    from sklearn.preprocessing import OneHotEncoder\n",
    "    from sklearn.model_selection import train_test_split\n",
    "    from sklearn.preprocessing import StandardScaler \n",
    "\n",
    "    #loading the working data\n",
    "    with open(f'{data_path}/{working_data}', 'rb') as f:\n",
    "        data = pickle.load(f)\n",
    "\n",
    "    #dropping some columns that are not needed\n",
    "    data = data.drop(columns=['RowNumber','CustomerId','Surname'], axis=1)\n",
    "    #data features\n",
    "    X = data.iloc[:,:-1]\n",
    "    #target data\n",
    "    y = data.iloc[:,-1:]   \n",
    "    #encoding the categorical columns\n",
    "    le = LabelEncoder()\n",
    "    ohe = OneHotEncoder()\n",
    "    X['Gender'] = le.fit_transform(X['Gender'])\n",
    "    geo_df = pd.DataFrame(ohe.fit_transform(X[['Geography']]).toarray())\n",
    "\n",
    "    #getting feature name after onehotencoding\n",
    "    geo_df.columns = ohe.get_feature_names(['Geography'])\n",
    "\n",
    "    #merging geo_df with the main data\n",
    "    X = X.join(geo_df) \n",
    "    #dropping the old columns after encoding\n",
    "    X.drop(columns=['Geography'], axis=1, inplace=True)\n",
    "\n",
    "    #splitting the data \n",
    "    X_train,X_test,y_train,y_test = train_test_split( X,y, test_size=0.2, random_state = 42)\n",
    "    #feature scaling\n",
    "    sc =StandardScaler()\n",
    "    X_train = sc.fit_transform(X_train)\n",
    "    X_test = sc.transform(X_test)\n",
    "    #saving the values from the dataframe\n",
    "    y_train = y_train.values\n",
    "    y_test = y_test.values\n",
    "    \n",
    "    #Save the train_data as a pickle file to be used by the train component.\n",
    "    with open(f'{data_path}/{train_data}', 'wb') as f:\n",
    "        pickle.dump((X_train,  y_train), f)\n",
    "        \n",
    "    #Save the test_data as a pickle file to be used by the predict component.\n",
    "    with open(f'{data_path}/{test_data}', 'wb') as f:\n",
    "        pickle.dump((X_test,  y_test), f)\n",
    "    \n",
    "    return(print('Done!'))"
   ]
  },
  {
   "cell_type": "code",
   "execution_count": 9,
   "metadata": {},
   "outputs": [
    {
     "name": "stdout",
     "output_type": "stream",
     "text": [
      "Done!\n"
     ]
    }
   ],
   "source": [
    "preprocess(output_dir,\"working_data\", \"train_data\",\"test_data\")"
   ]
  },
  {
   "cell_type": "markdown",
   "metadata": {},
   "source": [
    "### c. Defining the train function"
   ]
  },
  {
   "cell_type": "code",
   "execution_count": 11,
   "metadata": {},
   "outputs": [],
   "source": [
    "def train_tensorflow(data_path,train_data, model):\n",
    "    import pickle\n",
    "    # import Library\n",
    "    import numpy as np\n",
    "    from tensorflow import keras\n",
    "    from tensorflow.keras.models import Sequential\n",
    "    from tensorflow.keras.layers import Dense\n",
    "\n",
    "    #loading the train data\n",
    "    with open(f'{data_path}/{train_data}', 'rb') as f:\n",
    "        train_data = pickle.load(f)\n",
    "    # Separate the X_train from y_train.\n",
    "    X_train, y_train = train_data\n",
    "    \n",
    "    #initializing the classifier model with its input, hidden and output layers\n",
    "    classifier = Sequential()\n",
    "    classifier.add(Dense(units = 16, activation='relu', input_dim=12,))\n",
    "    classifier.add(Dense(units = 8, activation='relu'))\n",
    "    classifier.add(Dense(units = 1, activation='sigmoid'))\n",
    "    #Compiling the classifier model with Stochastic Gradient Desecnt\n",
    "    classifier.compile(optimizer = 'adam', loss='binary_crossentropy' , metrics =['accuracy'])\n",
    "    #fitting the model\n",
    "    classifier.fit(X_train, y_train, batch_size=10, epochs=20)\n",
    "    #saving the model\n",
    "    classifier.save(f'{data_path}/{model}')    "
   ]
  },
  {
   "cell_type": "code",
   "execution_count": 12,
   "metadata": {
    "scrolled": true
   },
   "outputs": [
    {
     "name": "stdout",
     "output_type": "stream",
     "text": [
      "WARNING:tensorflow:From /usr/local/lib/python3.6/dist-packages/tensorflow_core/python/ops/resource_variable_ops.py:1630: calling BaseResourceVariable.__init__ (from tensorflow.python.ops.resource_variable_ops) with constraint is deprecated and will be removed in a future version.\n",
      "Instructions for updating:\n",
      "If using Keras pass *_constraint arguments to layers.\n",
      "WARNING:tensorflow:From /usr/local/lib/python3.6/dist-packages/tensorflow_core/python/ops/nn_impl.py:183: where (from tensorflow.python.ops.array_ops) is deprecated and will be removed in a future version.\n",
      "Instructions for updating:\n",
      "Use tf.where in 2.0, which has the same broadcast rule as np.where\n",
      "Train on 8000 samples\n",
      "Epoch 1/20\n",
      "8000/8000 [==============================] - 1s 172us/sample - loss: 0.4818 - acc: 0.7940s - loss: 0.4977 - acc:\n",
      "Epoch 2/20\n",
      "8000/8000 [==============================] - 1s 152us/sample - loss: 0.4126 - acc: 0.8251\n",
      "Epoch 3/20\n",
      "8000/8000 [==============================] - 1s 156us/sample - loss: 0.3830 - acc: 0.8416\n",
      "Epoch 4/20\n",
      "8000/8000 [==============================] - 1s 156us/sample - loss: 0.3650 - acc: 0.8501\n",
      "Epoch 5/20\n",
      "8000/8000 [==============================] - 1s 154us/sample - loss: 0.3543 - acc: 0.8551\n",
      "Epoch 6/20\n",
      "8000/8000 [==============================] - 1s 153us/sample - loss: 0.3495 - acc: 0.8558\n",
      "Epoch 7/20\n",
      "8000/8000 [==============================] - 1s 151us/sample - loss: 0.3473 - acc: 0.8576\n",
      "Epoch 8/20\n",
      "8000/8000 [==============================] - 1s 153us/sample - loss: 0.3450 - acc: 0.8600\n",
      "Epoch 9/20\n",
      "8000/8000 [==============================] - 1s 151us/sample - loss: 0.3432 - acc: 0.8599\n",
      "Epoch 10/20\n",
      "8000/8000 [==============================] - 1s 151us/sample - loss: 0.3424 - acc: 0.8587\n",
      "Epoch 11/20\n",
      "8000/8000 [==============================] - 1s 157us/sample - loss: 0.3413 - acc: 0.8608\n",
      "Epoch 12/20\n",
      "8000/8000 [==============================] - 1s 151us/sample - loss: 0.3410 - acc: 0.8605\n",
      "Epoch 13/20\n",
      "8000/8000 [==============================] - 1s 154us/sample - loss: 0.3399 - acc: 0.8593\n",
      "Epoch 14/20\n",
      "8000/8000 [==============================] - 1s 145us/sample - loss: 0.3395 - acc: 0.8602\n",
      "Epoch 15/20\n",
      "8000/8000 [==============================] - 1s 154us/sample - loss: 0.3379 - acc: 0.8627\n",
      "Epoch 16/20\n",
      "8000/8000 [==============================] - 1s 149us/sample - loss: 0.3382 - acc: 0.8618\n",
      "Epoch 17/20\n",
      "8000/8000 [==============================] - 1s 149us/sample - loss: 0.3373 - acc: 0.8635\n",
      "Epoch 18/20\n",
      "8000/8000 [==============================] - 1s 153us/sample - loss: 0.3366 - acc: 0.8625\n",
      "Epoch 19/20\n",
      "8000/8000 [==============================] - 1s 150us/sample - loss: 0.3360 - acc: 0.8631\n",
      "Epoch 20/20\n",
      "8000/8000 [==============================] - 1s 155us/sample - loss: 0.3355 - acc: 0.8625\n"
     ]
    }
   ],
   "source": [
    "train_tensorflow(output_dir, \"train_data\",\"model\")"
   ]
  },
  {
   "cell_type": "markdown",
   "metadata": {},
   "source": [
    "### d. Defining predict function"
   ]
  },
  {
   "cell_type": "code",
   "execution_count": 13,
   "metadata": {},
   "outputs": [],
   "source": [
    "def predict_tensorflow(data_path,test_data,model):\n",
    "    import pickle\n",
    "    import numpy as np\n",
    "    from tensorflow import keras\n",
    "    from tensorflow.keras.models import load_model\n",
    "    \n",
    "    #loading the X_test and y_test\n",
    "    with open(f'{data_path}/{test_data}', 'rb') as f:\n",
    "        test_data = pickle.load(f)\n",
    "    # Separate the X_test from y_test.\n",
    "    X_test, y_test = test_data\n",
    "    #loading the model\n",
    "    classifier = load_model(f'{data_path}/{model}')\n",
    "\n",
    "    #Evaluate the model and print the results\n",
    "    test_loss, test_acc = classifier.evaluate(X_test,  y_test, verbose=0)\n",
    "    \n",
    "    #model's prediction on test data\n",
    "    y_pred = classifier.predict(X_test)\n",
    "    # create a threshold for the confution matrics\n",
    "    y_pred=(y_pred>0.5)\n",
    "\n",
    "    #saving the test_loss and test_acc\n",
    "    with open(f'{data_path}/performance.txt', 'w') as f:\n",
    "        f.write(\"Test_loss: {}, Test_accuracy: {} \".format(test_loss,test_acc))\n",
    "\n",
    "    #saving the predictions\n",
    "    with open(f'{data_path}/results.txt', 'w') as result:\n",
    "        result.write(\" Prediction: {}, Actual: {} \".format(y_pred,y_test.astype(np.bool)))"
   ]
  },
  {
   "cell_type": "code",
   "execution_count": 14,
   "metadata": {},
   "outputs": [
    {
     "name": "stdout",
     "output_type": "stream",
     "text": [
      "WARNING:tensorflow:From /usr/local/lib/python3.6/dist-packages/tensorflow_core/python/ops/init_ops.py:97: calling GlorotUniform.__init__ (from tensorflow.python.ops.init_ops) with dtype is deprecated and will be removed in a future version.\n",
      "Instructions for updating:\n",
      "Call initializer instance with the dtype argument instead of passing it to the constructor\n",
      "WARNING:tensorflow:From /usr/local/lib/python3.6/dist-packages/tensorflow_core/python/ops/init_ops.py:97: calling Zeros.__init__ (from tensorflow.python.ops.init_ops) with dtype is deprecated and will be removed in a future version.\n",
      "Instructions for updating:\n",
      "Call initializer instance with the dtype argument instead of passing it to the constructor\n"
     ]
    }
   ],
   "source": [
    "predict_tensorflow(output_dir,\"test_data\", \"model\")"
   ]
  },
  {
   "cell_type": "markdown",
   "metadata": {},
   "source": [
    "# 3. Create Kubeflow componets for each step from the python functions defined above ."
   ]
  },
  {
   "cell_type": "code",
   "execution_count": 15,
   "metadata": {},
   "outputs": [],
   "source": [
    "# create light weight components\n",
    "obtain_data_op = kfp.components.create_component_from_func(obtain_data,base_image=\"python:3.7.1\")\n",
    "preprocess_op = kfp.components.create_component_from_func(preprocess,base_image=\"python:3.7.1\")\n",
    "train_op = kfp.components.create_component_from_func(train_tensorflow, base_image=\"tensorflow/tensorflow:latest-gpu-py3\")\n",
    "predict_op = kfp.components.create_component_from_func(predict_tensorflow, base_image=\"tensorflow/tensorflow:latest-gpu-py3\")"
   ]
  },
  {
   "cell_type": "markdown",
   "metadata": {},
   "source": [
    "# 4. Define the Kubeflow Pipeline"
   ]
  },
  {
   "cell_type": "code",
   "execution_count": 16,
   "metadata": {},
   "outputs": [],
   "source": [
    "# create client that would enable communication with the Pipelines API server \n",
    "client = kfp.Client()"
   ]
  },
  {
   "cell_type": "code",
   "execution_count": 17,
   "metadata": {},
   "outputs": [],
   "source": [
    "# define pipeline\n",
    "@dsl.pipeline(name=\"Churn Pipeline\", description=\"Performs Preprocessing, training and prediction of churn rate\")\n",
    "\n",
    "# Define parameters to be fed into pipeline\n",
    "def churn_lightweight_tensorflow_pipeline(data_path: str,\n",
    "                                          working_data: str,\n",
    "                                         train_data: str,\n",
    "                                         test_data:str,\n",
    "                                         model:str):\n",
    "    \n",
    "    # Define volume to share data between components.\n",
    "    volume_op = dsl.VolumeOp(\n",
    "    name=\"data_volume\",\n",
    "    resource_name=\"data-volume\",\n",
    "    size=\"1Gi\",\n",
    "    modes=dsl.VOLUME_MODE_RWO)\n",
    "\n",
    "    #create obtain data component\n",
    "    obtain_data_container = obtain_data_op(data_path, working_data).add_pvolumes({data_path: volume_op.volume})\n",
    "    # Create preprocess components.\n",
    "    preprocess_container = preprocess_op(data_path, working_data, train_data, test_data).add_pvolumes({data_path: obtain_data_container.pvolume})\n",
    "    # Create train component.\n",
    "    train_container = train_op(data_path, train_data, model).add_pvolumes({data_path: preprocess_container.pvolume})\n",
    "    # Create prediction component.\n",
    "    predict_container = predict_op(data_path, test_data, model).add_pvolumes({data_path: train_container.pvolume})\n",
    "    \n",
    "    # Print the result of the prediction\n",
    "    result_container = dsl.ContainerOp(\n",
    "        name=\"print_prediction\",\n",
    "        image='library/bash:4.4.23',\n",
    "        pvolumes={data_path: predict_container.pvolume},\n",
    "        arguments=['cat', f'{data_path}/results.txt']\n",
    "        )"
   ]
  },
  {
   "cell_type": "markdown",
   "metadata": {},
   "source": [
    "# 5. Compile and Run the Kubeflow Pipeline"
   ]
  },
  {
   "cell_type": "code",
   "execution_count": 18,
   "metadata": {},
   "outputs": [
    {
     "name": "stderr",
     "output_type": "stream",
     "text": [
      "/home/jovyan/.local/lib/python3.6/site-packages/kfp/dsl/_container_op.py:1039: FutureWarning: Please create reusable components instead of constructing ContainerOp instances directly. Reusable components are shareable, portable and have compatibility and support guarantees. Please see the documentation: https://www.kubeflow.org/docs/pipelines/sdk/component-development/#writing-your-component-definition-file The components can be created manually (or, in case of python, using kfp.components.create_component_from_func or func_to_container_op) and then loaded using kfp.components.load_component_from_file, load_component_from_uri or load_component_from_text: https://kubeflow-pipelines.readthedocs.io/en/stable/source/kfp.components.html#kfp.components.load_component_from_file\n",
      "  category=FutureWarning,\n"
     ]
    },
    {
     "data": {
      "text/html": [
       "<a href=\"/pipeline/#/experiments/details/3f4090cb-bf8f-4de9-8268-e24085f3cd67\" target=\"_blank\" >Experiment details</a>."
      ],
      "text/plain": [
       "<IPython.core.display.HTML object>"
      ]
     },
     "metadata": {},
     "output_type": "display_data"
    },
    {
     "data": {
      "text/html": [
       "<a href=\"/pipeline/#/runs/details/fdcd2d01-5cea-4766-9bf4-26ffbb39d3b3\" target=\"_blank\" >Run details</a>."
      ],
      "text/plain": [
       "<IPython.core.display.HTML object>"
      ]
     },
     "metadata": {},
     "output_type": "display_data"
    }
   ],
   "source": [
    "DATA_PATH = '/mnt'\n",
    "DATA = \"working_data\"\n",
    "TRAIN_DATA = \"train_data\"\n",
    "TEST_DATA = \"test_data\"\n",
    "MODEL_FILE= \"classifier.h5\"\n",
    "\n",
    "\n",
    "pipeline_func = churn_lightweight_tensorflow_pipeline\n",
    "\n",
    "experiment_name = 'churn_prediction_tensorflow_lightweight'\n",
    "run_name = pipeline_func.__name__ + ' run'\n",
    "\n",
    "arguments = {\"data_path\":DATA_PATH,\n",
    "             \"working_data\": DATA,\n",
    "            \"train_data\": TRAIN_DATA,\n",
    "            \"test_data\": TEST_DATA,\n",
    "            \"model\":MODEL_FILE}\n",
    "\n",
    "# Compile pipeline to generate compressed YAML definition of the pipeline.\n",
    "kfp.compiler.Compiler().compile(pipeline_func,  \n",
    "  '{}.zip'.format(experiment_name))\n",
    "\n",
    "# Submit pipeline directly from pipeline function\n",
    "run_result = client.create_run_from_pipeline_func(pipeline_func, \n",
    "                                                  experiment_name=experiment_name, \n",
    "                                                  run_name=run_name, \n",
    "                                                  arguments=arguments)\n"
   ]
  },
  {
   "cell_type": "code",
   "execution_count": null,
   "metadata": {},
   "outputs": [],
   "source": []
  }
 ],
 "metadata": {
  "kernelspec": {
   "display_name": "Python 3",
   "language": "python",
   "name": "python3"
  },
  "language_info": {
   "codemirror_mode": {
    "name": "ipython",
    "version": 3
   },
   "file_extension": ".py",
   "mimetype": "text/x-python",
   "name": "python",
   "nbconvert_exporter": "python",
   "pygments_lexer": "ipython3",
   "version": "3.6.9"
  }
 },
 "nbformat": 4,
 "nbformat_minor": 4
}
